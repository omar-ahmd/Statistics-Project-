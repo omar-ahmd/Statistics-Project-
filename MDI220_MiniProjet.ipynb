{
  "nbformat": 4,
  "nbformat_minor": 0,
  "metadata": {
    "colab": {
      "name": "MDI220_MiniProjet.ipynb",
      "provenance": [],
      "collapsed_sections": [
        "OWjMOOmJBrSD",
        "SXmCzpDdhu_H",
        "SVEhCfjxv2q4"
      ],
      "authorship_tag": "ABX9TyNXIjwfK/kMNbCzgxbdxMOe",
      "include_colab_link": true
    },
    "kernelspec": {
      "name": "python3",
      "display_name": "Python 3"
    },
    "language_info": {
      "name": "python"
    }
  },
  "cells": [
    {
      "cell_type": "markdown",
      "metadata": {
        "id": "view-in-github",
        "colab_type": "text"
      },
      "source": [
        "<a href=\"https://colab.research.google.com/github/omar-ahmd/Statistics-Project-/blob/main/MDI220_MiniProjet.ipynb\" target=\"_parent\"><img src=\"https://colab.research.google.com/assets/colab-badge.svg\" alt=\"Open In Colab\"/></a>"
      ]
    },
    {
      "cell_type": "markdown",
      "metadata": {
        "id": "mV5DI72tDcZL"
      },
      "source": [
        "___\n",
        "# **<center>Mini-Projet Satistiques</center>**\n",
        "___\n",
        "> MDI-220\n",
        "### *Préparé par:*  \n",
        "> Omar AHMAD\n",
        "\n"
      ]
    },
    {
      "cell_type": "code",
      "metadata": {
        "id": "Qa8MOaF-Db2t"
      },
      "source": [
        "import pandas as pd\n",
        "import datetime\n",
        "from scipy import stats\n",
        "from scipy.stats import gamma,normaltest\n",
        "import matplotlib.pyplot as plt\n",
        "import numpy as np\n",
        "import pylab "
      ],
      "execution_count": 148,
      "outputs": []
    },
    {
      "cell_type": "markdown",
      "metadata": {
        "id": "OWjMOOmJBrSD"
      },
      "source": [
        "___\n",
        "## **Ex1: Exploration des données**\n",
        "___"
      ]
    },
    {
      "cell_type": "markdown",
      "metadata": {
        "id": "eQPX0Pp7DQHi"
      },
      "source": [
        "### Importing Data \n",
        "On va tout d'abord telecharger les donnés du $\\color{red}{\\text{Nuclear Power Accidents}}$ et ensuite on explorera ces donnés."
      ]
    },
    {
      "cell_type": "code",
      "metadata": {
        "colab": {
          "base_uri": "https://localhost:8080/"
        },
        "id": "wJ-X0LU_BKer",
        "outputId": "58a533de-7eec-44d4-e05d-6d63c62b56c5"
      },
      "source": [
        "!wget --no-check-certificate https://innovwiki.ethz.ch/v1/images/NuclearPowerAccidents2016.csv"
      ],
      "execution_count": null,
      "outputs": [
        {
          "output_type": "stream",
          "name": "stdout",
          "text": [
            "--2021-10-30 09:06:00--  https://innovwiki.ethz.ch/v1/images/NuclearPowerAccidents2016.csv\n",
            "Resolving innovwiki.ethz.ch (innovwiki.ethz.ch)... 82.130.119.13\n",
            "Connecting to innovwiki.ethz.ch (innovwiki.ethz.ch)|82.130.119.13|:443... connected.\n",
            "WARNING: cannot verify innovwiki.ethz.ch's certificate, issued by ‘CN=AlphaSSL CA - SHA256 - G2,O=GlobalSign nv-sa,C=BE’:\n",
            "  Issued certificate has expired.\n",
            "HTTP request sent, awaiting response... 301 Moved Permanently\n",
            "Location: https://xyotta.com/v1/images/NuclearPowerAccidents2016.csv [following]\n",
            "--2021-10-30 09:06:00--  https://xyotta.com/v1/images/NuclearPowerAccidents2016.csv\n",
            "Resolving xyotta.com (xyotta.com)... 82.130.119.13\n",
            "Connecting to xyotta.com (xyotta.com)|82.130.119.13|:443... connected.\n",
            "HTTP request sent, awaiting response... 200 OK\n",
            "Length: 41814 (41K) [text/csv]\n",
            "Saving to: ‘NuclearPowerAccidents2016.csv’\n",
            "\n",
            "NuclearPowerAcciden 100%[===================>]  40.83K  --.-KB/s    in 0s      \n",
            "\n",
            "2021-10-30 09:06:01 (303 MB/s) - ‘NuclearPowerAccidents2016.csv’ saved [41814/41814]\n",
            "\n"
          ]
        }
      ]
    },
    {
      "cell_type": "code",
      "metadata": {
        "colab": {
          "base_uri": "https://localhost:8080/"
        },
        "id": "0ylx0XhvDB-x",
        "outputId": "a293ce02-cafc-44aa-bf06-31d714f013d3"
      },
      "source": [
        "!ls"
      ],
      "execution_count": null,
      "outputs": [
        {
          "output_type": "stream",
          "name": "stdout",
          "text": [
            "NuclearPowerAccidents2016.csv  sample_data\n"
          ]
        }
      ]
    },
    {
      "cell_type": "markdown",
      "metadata": {
        "id": "C_bpa8a2DH5q"
      },
      "source": [
        "#### Load data"
      ]
    },
    {
      "cell_type": "code",
      "metadata": {
        "id": "9bWKaiddDFX6"
      },
      "source": [
        "data = pd.read_csv('NuclearPowerAccidents2016.csv')"
      ],
      "execution_count": null,
      "outputs": []
    },
    {
      "cell_type": "code",
      "metadata": {
        "colab": {
          "base_uri": "https://localhost:8080/",
          "height": 204
        },
        "id": "q_fSJLOkDYYl",
        "outputId": "cdad51e8-e733-407d-f6c1-cc102ba61fdd"
      },
      "source": [
        "data.head()"
      ],
      "execution_count": null,
      "outputs": [
        {
          "output_type": "execute_result",
          "data": {
            "text/html": [
              "<div>\n",
              "<style scoped>\n",
              "    .dataframe tbody tr th:only-of-type {\n",
              "        vertical-align: middle;\n",
              "    }\n",
              "\n",
              "    .dataframe tbody tr th {\n",
              "        vertical-align: top;\n",
              "    }\n",
              "\n",
              "    .dataframe thead th {\n",
              "        text-align: right;\n",
              "    }\n",
              "</style>\n",
              "<table border=\"1\" class=\"dataframe\">\n",
              "  <thead>\n",
              "    <tr style=\"text-align: right;\">\n",
              "      <th></th>\n",
              "      <th>Date</th>\n",
              "      <th>Location</th>\n",
              "      <th>Cost (millions 2013US$)</th>\n",
              "      <th>INES</th>\n",
              "      <th>Smyth Magnitude</th>\n",
              "      <th>Region</th>\n",
              "      <th>Description</th>\n",
              "      <th>Fatalities</th>\n",
              "    </tr>\n",
              "  </thead>\n",
              "  <tbody>\n",
              "    <tr>\n",
              "      <th>0</th>\n",
              "      <td>4/26/1986</td>\n",
              "      <td>Kiev, Ukraine</td>\n",
              "      <td>259336.0</td>\n",
              "      <td>7.0</td>\n",
              "      <td>8.0</td>\n",
              "      <td>EE</td>\n",
              "      <td>Mishandled reactor safety test at Chernobyl nu...</td>\n",
              "      <td>4056</td>\n",
              "    </tr>\n",
              "    <tr>\n",
              "      <th>1</th>\n",
              "      <td>3/11/2011</td>\n",
              "      <td>Fukushima Prefecture, Japan</td>\n",
              "      <td>166089.0</td>\n",
              "      <td>7.0</td>\n",
              "      <td>7.5</td>\n",
              "      <td>A</td>\n",
              "      <td>An earthquake and tsunami caused emergency bac...</td>\n",
              "      <td>573</td>\n",
              "    </tr>\n",
              "    <tr>\n",
              "      <th>2</th>\n",
              "      <td>12/8/1995</td>\n",
              "      <td>Tsuruga, Japan</td>\n",
              "      <td>15500.0</td>\n",
              "      <td>NaN</td>\n",
              "      <td>NaN</td>\n",
              "      <td>A</td>\n",
              "      <td>Japan's only fast breeder reactor Monju suffer...</td>\n",
              "      <td>0</td>\n",
              "    </tr>\n",
              "    <tr>\n",
              "      <th>3</th>\n",
              "      <td>3/28/1979</td>\n",
              "      <td>Middletown, Pennsylvania, United States</td>\n",
              "      <td>10910.0</td>\n",
              "      <td>5.0</td>\n",
              "      <td>7.9</td>\n",
              "      <td>NaN</td>\n",
              "      <td>Equipment failure and operator error contribut...</td>\n",
              "      <td>0</td>\n",
              "    </tr>\n",
              "    <tr>\n",
              "      <th>4</th>\n",
              "      <td>9/11/1957</td>\n",
              "      <td>Rocky Flats, USA</td>\n",
              "      <td>8189.0</td>\n",
              "      <td>5.0</td>\n",
              "      <td>5.2</td>\n",
              "      <td>NaN</td>\n",
              "      <td>Fire starts and destroys plutonium processing ...</td>\n",
              "      <td>0</td>\n",
              "    </tr>\n",
              "  </tbody>\n",
              "</table>\n",
              "</div>"
            ],
            "text/plain": [
              "        Date  ... Fatalities\n",
              "0  4/26/1986  ...       4056\n",
              "1  3/11/2011  ...        573\n",
              "2  12/8/1995  ...          0\n",
              "3  3/28/1979  ...          0\n",
              "4  9/11/1957  ...          0\n",
              "\n",
              "[5 rows x 8 columns]"
            ]
          },
          "metadata": {},
          "execution_count": 6
        }
      ]
    },
    {
      "cell_type": "code",
      "metadata": {
        "colab": {
          "base_uri": "https://localhost:8080/"
        },
        "id": "dPA0UkJODy0T",
        "outputId": "a80830cc-bbf8-402a-bfa8-329fa2fbcf79"
      },
      "source": [
        "data.info()"
      ],
      "execution_count": null,
      "outputs": [
        {
          "output_type": "stream",
          "name": "stdout",
          "text": [
            "<class 'pandas.core.frame.DataFrame'>\n",
            "RangeIndex: 216 entries, 0 to 215\n",
            "Data columns (total 8 columns):\n",
            " #   Column                   Non-Null Count  Dtype  \n",
            "---  ------                   --------------  -----  \n",
            " 0   Date                     216 non-null    object \n",
            " 1   Location                 216 non-null    object \n",
            " 2   Cost (millions 2013US$)  175 non-null    float64\n",
            " 3   INES                     104 non-null    float64\n",
            " 4   Smyth Magnitude          33 non-null     float64\n",
            " 5   Region                   126 non-null    object \n",
            " 6   Description              216 non-null    object \n",
            " 7   Fatalities               216 non-null    int64  \n",
            "dtypes: float64(3), int64(1), object(4)\n",
            "memory usage: 13.6+ KB\n"
          ]
        }
      ]
    },
    {
      "cell_type": "markdown",
      "metadata": {
        "id": "Q_9iv1gxEOYZ"
      },
      "source": [
        "### **1) Extract the observation vector**\n"
      ]
    },
    {
      "cell_type": "code",
      "metadata": {
        "id": "1UOrZ5t3EXLh"
      },
      "source": [
        "#Change type of Date from string to datetime\n",
        "data['Date'] = pd.to_datetime(data['Date'])\n",
        "\n",
        "#Date of accident \n",
        "DOA = data.loc[data['Description'].str.contains(\"Three Mile Island\")].Date.values[0]\n",
        "\n",
        "#My observation Data\n",
        "X = data.loc[data['Date'] < DOA]\n",
        "\n",
        "#Supprimer les valeurs null dans le column des couts\n",
        "X = X[X['Cost (millions 2013US$)'].notna()]\n"
      ],
      "execution_count": null,
      "outputs": []
    },
    {
      "cell_type": "code",
      "metadata": {
        "colab": {
          "base_uri": "https://localhost:8080/"
        },
        "id": "u9UqTTwwLscn",
        "outputId": "a22eda0c-440f-4152-86a9-90cab77d718b"
      },
      "source": [
        "nb_Obs = len(X)\n",
        "print(\"Nombre des observations est: \", nb_Obs)"
      ],
      "execution_count": null,
      "outputs": [
        {
          "output_type": "stream",
          "name": "stdout",
          "text": [
            "Nombre des observations est:  55\n"
          ]
        }
      ]
    },
    {
      "cell_type": "markdown",
      "metadata": {
        "id": "77oblWGT7d5E"
      },
      "source": [
        "### **2-a) Fonction quantile d’une loi normale N(µ, σ2)**\n"
      ]
    },
    {
      "cell_type": "markdown",
      "metadata": {
        "id": "xsmqKELLQZEY"
      },
      "source": [
        "On calcule tout d'abord la fonction de repartition de la fonction Normale:\n",
        "\\\n",
        "\\begin{equation}\n",
        "F(x) =  \\int^{+\\infty}_{-\\infty} \\frac{1}{\\sigma\\sqrt{2\\pi}} \n",
        "e^{\\frac{-1}{2}(\\frac{x-\\mu}{\\sigma})^2 } \\, dx = \\frac{1}{2}[1+erf(\\frac{x-\\mu}{\\sigma\\sqrt{2}})] \n",
        "\\end{equation}\n",
        "\\\n",
        "\\\n",
        "Maintenant on calcule l'inverse de la fonction de repartition pour obtenir la fonction quantile:\n",
        "\n",
        "\\begin{equation}\n",
        "F(x) = p \\Rightarrow 2p-1 = erf(\\frac{x-\\mu}{\\sigma\\sqrt{2}}) \\Rightarrow  erf^{-1}(2p-1) = \\frac{x-\\mu}{\\sigma\\sqrt{2}} \\quad \\forall \\quad |2p-1| < 1 \\Rightarrow p \\in ]0,1[\n",
        "\\end{equation}\n",
        "\\\n",
        "\\begin{equation}\n",
        "F^{-1}(p,\\mu,\\sigma^{2}) = \\mu +\\sqrt{2\\sigma^{2}} \\times erf^{-1}(2p-1)\n",
        "\\end{equation}\n",
        "\\\n",
        "Et on a: \n",
        "\\begin{equation}\n",
        "F^{-1}(p,0,1) = \\sqrt{2} \\times erf^{-1}(2p-1)\n",
        "\\end{equation}\n",
        "\\\n",
        "Donc:\n",
        "\\begin{equation}\n",
        "\\boxed{\n",
        "F^{-1}(p,\\mu,\\sigma^{2}) = \\mu +\\sqrt{\\sigma^{2}} \\times F^{-1}(p,0,1)\n",
        "} \\quad \\forall p \\in ]0,1[\n",
        "\\end{equation}"
      ]
    },
    {
      "cell_type": "markdown",
      "metadata": {
        "id": "cPr5_zcUux6c"
      },
      "source": [
        "### **2-b)Le QQ-plot de données pour la loi normale**"
      ]
    },
    {
      "cell_type": "code",
      "metadata": {
        "colab": {
          "base_uri": "https://localhost:8080/",
          "height": 295
        },
        "id": "zIhjpQzc7hjk",
        "outputId": "1d06d10c-00aa-4d20-e5bf-b7e7f62148b5"
      },
      "source": [
        "measurements = X[\"Cost (millions 2013US$)\"]\n",
        "stats.probplot(measurements, dist=stats.distributions.norm, plot=pylab)\n",
        "pylab.show()"
      ],
      "execution_count": null,
      "outputs": [
        {
          "output_type": "display_data",
          "data": {
            "image/png": "[encoded data removed]",
            "text/plain": [
              "<Figure size 432x288 with 1 Axes>"
            ]
          },
          "metadata": {
            "needs_background": "light"
          }
        }
      ]
    },
    {
      "cell_type": "markdown",
      "metadata": {
        "id": "zy2PJYLinGJP"
      },
      "source": [
        "### **3-a) Fonction quantile d’une loi normale $Exp(\\lambda)$**\n"
      ]
    },
    {
      "cell_type": "markdown",
      "metadata": {
        "id": "jFpdJ40wQVXg"
      },
      "source": [
        "On calcule tout d'abord la fonction de repartition de la fonction Exponential:\n",
        "\\\n",
        "\\begin{equation}\n",
        "F(x) =  \\int^{+\\infty}_{-\\infty} \\lambda e^{-\\lambda x} \\, dx = 1-e^{-\\lambda x} \\quad ,  \\quad 0 \\le F(x) \\le 1 \n",
        "\\end{equation}\n",
        "\\\n",
        "\\\n",
        "Maintenant on calcule l'inverse de la fonction de repartition pour obtenir la fonction quantile:\n",
        "\n",
        "\\begin{equation}\n",
        "F(x) = p \\Rightarrow 1-p = e^{-\\lambda x} \\Rightarrow  ln(1-p) = -\\lambda x \\quad \\forall p \\in [0,1]\n",
        "\\end{equation}\n",
        "\\\n",
        "\\begin{equation}\n",
        "F^{-1}(p,\\lambda) = \\frac{-1}{\\lambda} \\times ln(1-p)\n",
        "\\end{equation}\n",
        "\\\n",
        "Et on a: \n",
        "\\begin{equation}\n",
        "F^{-1}(p,1) = -ln(1-p)\n",
        "\\end{equation}\n",
        "\\\n",
        "Donc:\n",
        "\\begin{equation}\n",
        "\\boxed{\n",
        "F^{-1}(p,\\lambda) = \\frac{-1}{\\lambda} \\times F^{-1}(p,1)\n",
        "} \\quad \\forall p \\in [0,1]\n",
        "\\end{equation}"
      ]
    },
    {
      "cell_type": "markdown",
      "metadata": {
        "id": "LIlGy46SvE8n"
      },
      "source": [
        "### **3-b)Le QQ-plot de données pour la loi exponentiel**\n"
      ]
    },
    {
      "cell_type": "code",
      "metadata": {
        "id": "517xtdHJnGs1",
        "colab": {
          "base_uri": "https://localhost:8080/",
          "height": 295
        },
        "outputId": "9b79071f-174c-458e-ce1c-b1cf4bdf065e"
      },
      "source": [
        "stats.probplot(measurements, dist=stats.distributions.expon(), plot=plt)\n",
        "plt.show()"
      ],
      "execution_count": null,
      "outputs": [
        {
          "output_type": "display_data",
          "data": {
            "image/png": "[encoded data removed]",
            "text/plain": [
              "<Figure size 432x288 with 1 Axes>"
            ]
          },
          "metadata": {
            "needs_background": "light"
          }
        }
      ]
    },
    {
      "cell_type": "markdown",
      "metadata": {
        "id": "0XZPH3prZ-F_"
      },
      "source": [
        "### **4)Le QQ-plot de données pour la loi exponentiel**\n",
        "\n"
      ]
    },
    {
      "cell_type": "markdown",
      "metadata": {
        "id": "6dxaGEAiQN-6"
      },
      "source": [
        "En utilisant les QQ-plot qui indique par definition la similarité entre 2 distributions. Dans notre cas le but est de savoir lequelle des 2 distributions(normal, exponentielle) est plus plausible pour les donnés. \n",
        "D'après les 2 graphe QQ-plot tracer avant, on remarque que la relation entre le quantile des donnés observés et celle de la loi normal n'est pas lineaire et il est presque exponentielle. \n",
        "Alors que l'autre graphe nous illustre une relation presque lineaire entre le quantile des donnés observés et le quantile de la loi exonentielle.\n",
        "\n",
        "**Donc on peut utiliser la loi exponentielle pour modéliser les coûts des accidents avant l’accident de Three Mile Island**"
      ]
    },
    {
      "cell_type": "markdown",
      "metadata": {
        "id": "SXmCzpDdhu_H"
      },
      "source": [
        "___\n",
        "## **Ex2: Estimation ponctuelle des paramètres d’une loi exponentielle**\n",
        "___"
      ]
    },
    {
      "cell_type": "markdown",
      "metadata": {
        "id": "QCuAOPWhh6LQ"
      },
      "source": [
        "La densité de probabilté de la loi exponentielle est:\n",
        "\n",
        "\\begin{equation}\n",
        "p(x;\\lambda) = \\lambda e^{-\\lambda x} \\quad \\forall \\quad x \\in [0;+\\infty[ \\quad , \\lambda \\gt 0\n",
        "\\end{equation}\n"
      ]
    },
    {
      "cell_type": "markdown",
      "metadata": {
        "id": "6bnGIBB5i-PZ"
      },
      "source": [
        "### **1) L’estimateur du maximum de vraisemblance $\\widehat{\\lambda}_n$ du paramétre $\\lambda$** \n"
      ]
    },
    {
      "cell_type": "markdown",
      "metadata": {
        "id": "liWj2xagQBwp"
      },
      "source": [
        "\n",
        "\n",
        "Pour appliquer le maximum de vraisemblance on doit calculer $M(X,\\lambda)$:\n",
        "\\\n",
        "\\\n",
        "Tout d'abord comme les variables aleatoires sont $i.i.d$ donc: \n",
        "\\begin{equation}\n",
        "p(X;\\lambda) = \\prod_{i=1}^n p(x_i,\\lambda) = \\lambda^n e^{-\\lambda \\sum_{i=1}^n x_i}\n",
        "\\end{equation}\n",
        "\\\n",
        "On peut calculer maintenant $M(X,\\lambda)$:\n",
        "\\begin{equation}\n",
        "M(X;\\lambda) = -log(p(X,\\lambda)) = -n Log(\\lambda) +  \\lambda \\sum_{i=1}^n x_i\n",
        "\\end{equation}\n",
        "\n",
        "On derive $M(X;\\lambda)$ par rapport à $\\lambda$:\n",
        "\n",
        "\\begin{equation}\n",
        "\\frac{\\partial M(X;\\lambda)}{\\partial \\lambda} = \\frac{-n}{\\lambda} + \\sum_{i=1}^n x_i = 0 \\quad \\Rightarrow \\boxed{\\widehat{\\lambda}_n = \\frac{n}{\\sum_{i=1}^n x_i}  }\n",
        "\\end{equation}"
      ]
    },
    {
      "cell_type": "code",
      "metadata": {
        "colab": {
          "base_uri": "https://localhost:8080/"
        },
        "id": "LRbYRsGyoRrQ",
        "outputId": "1b899eff-5e41-4cd5-9883-a178bc760f66"
      },
      "source": [
        "estimated_lambda = len(X) * (1/sum(X[\"Cost (millions 2013US$)\"]))\n",
        "estimated_lambda"
      ],
      "execution_count": null,
      "outputs": [
        {
          "output_type": "execute_result",
          "data": {
            "text/plain": [
              "0.0013767725947156967"
            ]
          },
          "metadata": {},
          "execution_count": 12
        }
      ]
    },
    {
      "cell_type": "markdown",
      "metadata": {
        "id": "0TEj-jLcpsxk"
      },
      "source": [
        "**Donc:**$\\quad \\boxed{\\widehat{\\lambda}_n \\approx 0.001377 }$\n",
        "\n"
      ]
    },
    {
      "cell_type": "markdown",
      "metadata": {
        "id": "weVICwbBsEuf"
      },
      "source": [
        "### **2) Comparison de la loi exponentielle éstimée et les valeurs observés**"
      ]
    },
    {
      "cell_type": "code",
      "metadata": {
        "colab": {
          "base_uri": "https://localhost:8080/",
          "height": 312
        },
        "id": "6ba7HpR4sm1U",
        "outputId": "e8c73dcb-3784-485f-fdc3-0da148e674eb"
      },
      "source": [
        "x = X[\"Cost (millions 2013US$)\"]\n",
        "x_est = np.arange(0,max(x), 0.1)\n",
        "y_est = estimated_lambda*np.exp(-estimated_lambda*x_est)\n",
        "\n",
        "fig, ax=plt.subplots()\n",
        "#histogramme associé:\n",
        "ax.hist(x,bins=10, density=True, label=\"histogramme\")\n",
        "fig.suptitle(\"Loi exponentielle estimée et et les variables observés \")\n",
        "#densité de la loi associée:\n",
        "ax.plot(x_est,y_est, label=\"Densité estimé\")\n",
        "a = ax.legend()\n",
        "\n",
        "\n"
      ],
      "execution_count": null,
      "outputs": [
        {
          "output_type": "execute_result",
          "data": {
            "text/plain": [
              "<matplotlib.legend.Legend at 0x7f38fe617390>"
            ]
          },
          "metadata": {},
          "execution_count": 16
        },
        {
          "output_type": "display_data",
          "data": {
            "image/png": "[encoded data removed]",
            "text/plain": [
              "<Figure size 432x288 with 1 Axes>"
            ]
          },
          "metadata": {
            "needs_background": "light"
          }
        }
      ]
    },
    {
      "cell_type": "markdown",
      "metadata": {
        "id": "5JjNNA3g25E8"
      },
      "source": [
        "### **3) Estimation de la grandeur d’intérêt: $g_1(λ) = \\frac{1}{λ}$, et etudier l'efficacité de $T_1(X)$**"
      ]
    },
    {
      "cell_type": "markdown",
      "metadata": {
        "id": "rUDtayDl3Ymv"
      },
      "source": [
        "On a par hypothèse les observations **$X_i \\stackrel{i.i.d.}{\\sim} \\varepsilon\\ (\\lambda)$**\n",
        "\n",
        "\\\\\n",
        "\n",
        "Pour qu'un estimateur soit efficace il faut que:\n",
        "\n",
        "1. Le biais soit nul:\n",
        "$\\quad \\mathbb{E}[T_1(X)-g(\\lambda)] = \\mathbb{E}[\\frac{1}{n} \\sum_{i=1}^n x_i-\\frac{1}{\\lambda}] =\\frac{1}{n} \\times \\frac{n}{\\lambda} - \\frac{1}{\\lambda} = 0$ , condition verifié\n",
        "2. Le variance soit égale à la borne cramer-rao:\n",
        "\n",
        "  a. $Var_\\lambda(T_1(X)) = Var_\\lambda(\\frac{1}{n} \\sum_{i=1}^n x_i) = \\frac{1}{n^2} \\sum_{i=1}^nVar_\\lambda(x_i) = \\frac{n}{n^2 \\lambda^2} = \\frac{1}{n \\lambda^2}$\n",
        "\n",
        "  b. $BCR = \\frac {g'(\\lambda)^2}{I(\\lambda)}$\n",
        "    -  $g'(\\lambda)  = \\frac{-1}{\\lambda^2}$\n",
        "    -  $I_1(\\lambda) = Var_\\lambda(\\frac{\\partial log(p(x_1;\\lambda))}{\\partial \\lambda})$ ; car pour un modéle regulier $\\mathbb{E}[\\frac{\\partial log(p(x;\\lambda))}{\\partial \\lambda}] = 0$\n",
        "\n",
        "    $I_1(\\lambda) = Var_\\lambda(\\frac{\\partial }{\\partial \\lambda}(log(\\lambda) -\\lambda x))= \\frac{1}{\\lambda^2} \\quad ; \\quad I(\\lambda)=nI_1(\\lambda)$( car $X_i \\stackrel{i.i.d.}{\\sim} \\varepsilon\\ (\\lambda)$) et $I(\\lambda)$ represente l'information de fisher\n",
        "\n",
        "  donc: $BCR = \\frac {g'(\\lambda)^2}{I(\\lambda)} = \\frac{1/\\lambda^4}{n/\\lambda^2} = \\frac{1}{n \\lambda^2} \\quad \\Rightarrow \\quad \\boxed{BCR = Var_\\lambda(T_1(X)) = \\frac{1}{n \\lambda^2}}$\n",
        "\n",
        "\n",
        "\n",
        "**Alors $T_1(X)$ est un estimateur soit efficace de $g_1(λ)$**\n",
        "    \n",
        "    "
      ]
    },
    {
      "cell_type": "markdown",
      "metadata": {
        "id": "IZ4zD8LK_47C"
      },
      "source": [
        "### **4) Calculer $g_1$ en utilisant $T_1$ pour l’échantillon donné.**\n"
      ]
    },
    {
      "cell_type": "markdown",
      "metadata": {
        "id": "b4JNCHJYPuAQ"
      },
      "source": [
        "\\begin{equation}\n",
        "g_1(\\widehat\\lambda) = \\frac{1}{n}\\sum_{i=1}^n x_i\n",
        "\\end{equation}"
      ]
    },
    {
      "cell_type": "code",
      "metadata": {
        "colab": {
          "base_uri": "https://localhost:8080/"
        },
        "id": "zVRXtosMAYuS",
        "outputId": "2a76dc19-e6ed-42aa-bfb9-b341ec7373be"
      },
      "source": [
        "g1_lambda  = 1/estimated_lambda\n",
        "g1_lambda"
      ],
      "execution_count": null,
      "outputs": [
        {
          "output_type": "execute_result",
          "data": {
            "text/plain": [
              "726.3363636363636"
            ]
          },
          "metadata": {},
          "execution_count": 25
        }
      ]
    },
    {
      "cell_type": "markdown",
      "metadata": {
        "id": "AB9L18UffLry"
      },
      "source": [
        "\\begin{equation}\n",
        "\\boxed{g_1(\\tilde{\\lambda}) = 726.336 \\quad millions$}\n",
        "\\end{equation}\n"
      ]
    },
    {
      "cell_type": "markdown",
      "metadata": {
        "id": "9yhDiVEHAkVQ"
      },
      "source": [
        "### **5) Etudier un nouveau estimateur: $\\widetilde{T}_{1,\\eta}(X) = \\eta T_1(X);\\quad \\eta \\gt 0$.**\n",
        "\n",
        "\n"
      ]
    },
    {
      "cell_type": "markdown",
      "metadata": {
        "id": "R0wAMLi9PoRy"
      },
      "source": [
        "- $EQM(\\lambda,T_1)  = \\frac{1}{n\\lambda^2}$\n",
        "- $EQM(\\lambda,\\widetilde{T}_{1,\\eta}) = b(\\lambda,\\widetilde{T}_{1,\\eta})^2  + Var_\\lambda(\\widetilde{T}_{1,\\eta}) = (\\frac{1}{\\lambda}(\\eta -1))^2  + \\frac{\\eta^2}{n\\lambda^2}$\n",
        "\n",
        "Soit une fonction: $F(\\eta) = EQM(\\lambda,\\widetilde{T}_{1,\\eta}) - EQM(\\lambda,T_1) = \\frac{1}{\\lambda^2}(\\eta -1)^2 + \\frac{1}{n\\lambda^2}(\\eta^2 -1), \n",
        "\\quad  \\eta > 0 \\quad et \\quad n >0$\n",
        "\n",
        "- $F'(\\eta) = 0 \\Rightarrow \\eta = \\frac{n}{n+1}$ et $F(\\frac{n}{n+1}) < 0$\n",
        "- $F''(\\eta) = \\frac{2n}{n+1} > 0$\n",
        "\n",
        "Donc $F(\\eta)$ est convexe et possède 2 racines: $\\eta \\in \t\\{\\frac{n-1}{n+1},1\t\\}$\n",
        "\n",
        "\\begin{equation}\n",
        "\\boxed{EQM(\\lambda,\\widetilde{T}_{1,\\eta}) < EQM(\\lambda,T_1) \\quad \\forall \\quad \\eta \\in \\quad \t]\\frac{27}{28},1\t[ \\quad }\n",
        "\\end{equation}"
      ]
    },
    {
      "cell_type": "markdown",
      "metadata": {
        "id": "i1QZDln1J5AL"
      },
      "source": [
        "### **6) L’estimateur sans biais de la médiane.**\n"
      ]
    },
    {
      "cell_type": "markdown",
      "metadata": {
        "id": "v_z7fgbFPckq"
      },
      "source": [
        "On sait que le mediane du loi exponentiel est : $Med(X)= \\frac{ln(2)}{\\lambda}$\n",
        "\n",
        "\\begin{equation}\n",
        "\\mathbb{E}[\\widetilde{T}_{1,\\eta} - \\frac{ln(2)}{\\lambda}] = 0 \\quad \\Rightarrow \\quad \\frac{\\eta}{\\lambda} - \\frac{ln(2)}{\\lambda} = 0 \\quad \\Rightarrow \\quad \\boxed{\\eta = ln(2)}\\quad\n",
        "\\end{equation}\n",
        "\n",
        "**<center>Donc pour $\\eta = ln(2)$ l'estimateur de la médiane est sans biais</center>**"
      ]
    },
    {
      "cell_type": "code",
      "metadata": {
        "colab": {
          "base_uri": "https://localhost:8080/"
        },
        "id": "wBy__4XsLhjc",
        "outputId": "0f0e4f4d-945b-49af-bc12-093b163fea38"
      },
      "source": [
        "med_Est = np.log(2)/estimated_lambda\n",
        "print(\"L'estimation de la mediane est: \",med_Est)\n",
        "iSort_X = np.argsort(X[\"Cost (millions 2013US$)\"].values)\n",
        "med_Emp = X[\"Cost (millions 2013US$)\"].values[iSort_X[int(len(iSort_X)/2)]]\n",
        "print(\"La mediane empirique est: \",med_Emp)"
      ],
      "execution_count": null,
      "outputs": [
        {
          "output_type": "stream",
          "name": "stdout",
          "text": [
            "L'estimation de la mediane est:  503.45800259270857\n",
            "La mediane empirique est:  89.9\n"
          ]
        }
      ]
    },
    {
      "cell_type": "markdown",
      "metadata": {
        "id": "1-X9rp_gg_rR"
      },
      "source": [
        "La moyenne emirique 89.9 est plus petite que celle estimée 503.45, et ceci est due au petit nombre d'observations(n=55).  \n",
        "Donc, ces deux médianes seront plus proches plus que n augmente.\n"
      ]
    },
    {
      "cell_type": "markdown",
      "metadata": {
        "id": "N0uSmWGmOMZQ"
      },
      "source": [
        "### **7) Comparaison des risques quadratiques des estimateurs $T_1$ et $\\widetilde{T}_{1,\\eta}$ comme estimateurs pour $g_1(λ)$.**\n",
        "\n",
        "\n",
        "\n"
      ]
    },
    {
      "cell_type": "markdown",
      "metadata": {
        "id": "Cv_OmcwjPT27"
      },
      "source": [
        "- $EQM(\\lambda,T_1)  = \\frac{1}{n\\lambda^2}$"
      ]
    },
    {
      "cell_type": "code",
      "metadata": {
        "colab": {
          "base_uri": "https://localhost:8080/"
        },
        "id": "TBnJgajal0HM",
        "outputId": "6af42c64-c9c3-4836-d470-cdd124637fe4"
      },
      "source": [
        "print(\"le risque quadratique sous T1 est\",f\"{1/(nb_Obs*estimated_lambda**2)}\")"
      ],
      "execution_count": null,
      "outputs": [
        {
          "output_type": "stream",
          "name": "stdout",
          "text": [
            "le risque quadratique sous T1 est 9592.082057099922\n"
          ]
        }
      ]
    },
    {
      "cell_type": "markdown",
      "metadata": {
        "id": "Ij9jFWp6l0fl"
      },
      "source": [
        "- $EQM(\\lambda,\\widetilde{T}_{1,ln(2)}) = (\\frac{1}{\\lambda}(ln(2) -1))^2  + \\frac{(ln(2))^2}{n\\lambda^2}$\n"
      ]
    },
    {
      "cell_type": "code",
      "metadata": {
        "colab": {
          "base_uri": "https://localhost:8080/"
        },
        "id": "hxh9g3GumFEI",
        "outputId": "aeef07a0-0222-4677-87ac-612b3e4dd0b3"
      },
      "source": [
        "eta = np.math.log(2)\n",
        "print(\"le risque quadratique sous T1 est\",f\"{(g1_lambda*(eta-1))**2 + (g1_lambda*eta)**2 / nb_Obs}\")"
      ],
      "execution_count": null,
      "outputs": [
        {
          "output_type": "stream",
          "name": "stdout",
          "text": [
            "le risque quadratique sous T1 est 54283.308555590185\n"
          ]
        }
      ]
    },
    {
      "cell_type": "markdown",
      "metadata": {
        "id": "FNVB3LeYmF0C"
      },
      "source": [
        "\n",
        "Soit une fonction: $K(n) = EQM(\\lambda,\\widetilde{T}_{1,ln(2)}) - EQM(\\lambda,T_1) = \\frac{1}{\\lambda^2}(ln(2) -1)^2 + \\frac{1}{n\\lambda^2}(ln(2)^2 -1), \\quad n >0$\n",
        "\n",
        "$K(n) > 0 \\quad \\forall \\quad n > \\frac{1-ln(2)^2}{(ln(2)-1)^2} \\quad \\Rightarrow \\boxed{EQM(\\lambda,\\widetilde{T}_{1,ln(2)}) > EQM(\\lambda,T_1) \\quad \\forall \\quad n \\ge 6}$\n",
        "\n"
      ]
    },
    {
      "cell_type": "markdown",
      "metadata": {
        "id": "eA_JkHtSnbEH"
      },
      "source": [
        "**On visualize ces 2 fonctions**"
      ]
    },
    {
      "cell_type": "code",
      "metadata": {
        "colab": {
          "base_uri": "https://localhost:8080/",
          "height": 297
        },
        "id": "SCq3mvlRlHv4",
        "outputId": "bfbce157-25dc-4851-b405-a61c84b1c3af"
      },
      "source": [
        "eta = np.math.log(2)\n",
        "nVect = np.linspace(1,60,1000)\n",
        "\n",
        "risqueT1 = 1/(nVect*estimated_lambda**2) #T1(n)\n",
        "risqueT1tilde = ((nVect+1)*eta**2 -2*nVect*eta +nVect)/(nVect*estimated_lambda**2) #T1(n,eta=ln(2))\n",
        "\n",
        "for n in range(len(nVect)):\n",
        "  if (risqueT1[n] - risqueT1tilde[n]<=0):\n",
        "    a=nVect[n]\n",
        "    i = int(np.ceil(a))\n",
        "    print(\"A partir de n=\",i,end='')\n",
        "    print(\" le risque quadratique T1(n,eta=ln(2)) est plus grand que T1\")\n",
        "    break\n",
        "\n",
        "fig, ax = plt.subplots(1, 1)\n",
        "ax.set_ylabel('Risque')\n",
        "ax.set_xlabel('Population n')\n",
        "\n",
        "ax.plot(nVect,risqueT1tilde, label = \"T1 tilde\")\n",
        "ax.plot(nVect,risqueT1,label = \"T1\")\n",
        "ax.scatter(a, 1/(a*estimated_lambda**2),color='red',alpha = 1)\n",
        "a=plt.text(a+2 , 1/(a*estimated_lambda**2) ,'T1 = T1(eta = ln(2) )')\n",
        "a = ax.legend()"
      ],
      "execution_count": null,
      "outputs": [
        {
          "output_type": "stream",
          "name": "stdout",
          "text": [
            "A partir de n= 6 le risque quadratique T1(n,eta=ln(2)) est plus grand que T1\n"
          ]
        },
        {
          "output_type": "display_data",
          "data": {
            "image/png": "[encoded data removed]",
            "text/plain": [
              "<Figure size 432x288 with 1 Axes>"
            ]
          },
          "metadata": {
            "needs_background": "light"
          }
        }
      ]
    },
    {
      "cell_type": "markdown",
      "metadata": {
        "id": "UMJz9quXvv4H"
      },
      "source": [
        "Pour savoir le valeur de $\\eta$  qui mimizie le risque quadratique pour un nombre d'obseravtions 55:\n",
        " "
      ]
    },
    {
      "cell_type": "code",
      "metadata": {
        "colab": {
          "base_uri": "https://localhost:8080/",
          "height": 297
        },
        "id": "ldECg3BQwqNq",
        "outputId": "58ed341a-90a2-45a3-f96c-660d6c77f49e"
      },
      "source": [
        "etaVect = np.linspace(0.9, 1.065,50)\n",
        "risqueT1 = ((nb_Obs+1)*etaVect**2 -2*nb_Obs*etaVect +nb_Obs)/(nb_Obs*estimated_lambda**2) #T1(n,eta=ln(2))\n",
        "\n",
        "rmin = np.min(risqueT1)\n",
        "rargmin = np.argmin(risqueT1)\n",
        "\n",
        "fig, ax = plt.subplots(1, 1)\n",
        "ax.set_ylabel('Risque')\n",
        "ax.set_xlabel('eta')\n",
        "\n",
        "ax.plot(etaVect,risqueT1, label = \"T1 tilde\")\n",
        "ax.scatter(etaVect[rargmin],rmin, label = \"Min\",color='red')\n",
        "Min = \"({:.2f} , {:.2f})\".format(etaVect[rargmin], rmin)\n",
        "ax.text(etaVect[rargmin]-0.015,rmin+300, Min )\n",
        "a=ax.legend()\n",
        "\n",
        "\n",
        "print(\"Donc le risque quadratique pour n={} est minimum pour eta = {:.4f}\".format(nb_Obs,etaVect[rargmin]))"
      ],
      "execution_count": null,
      "outputs": [
        {
          "output_type": "stream",
          "name": "stdout",
          "text": [
            "Donc le risque quadratique pour n=55 est minimum pour eta = 0.9808\n"
          ]
        },
        {
          "output_type": "display_data",
          "data": {
            "image/png": "[encoded data removed]",
            "text/plain": [
              "<Figure size 432x288 with 1 Axes>"
            ]
          },
          "metadata": {
            "needs_background": "light"
          }
        }
      ]
    },
    {
      "cell_type": "markdown",
      "metadata": {
        "id": "SVEhCfjxv2q4"
      },
      "source": [
        "___\n",
        "## **Ex3: Test sur le paramètre d’une loi**\n",
        "___\n",
        "On souhaite affirmer avec un faible risque d’erreur que le coût moyen d’un accident est inférieur à un milliard de dollars."
      ]
    },
    {
      "cell_type": "markdown",
      "metadata": {
        "id": "QmQjQBFPwJDH"
      },
      "source": [
        "### **1) Formuler l’hypothèse null et l’hypothèse alternative.**\n",
        "\n"
      ]
    },
    {
      "cell_type": "markdown",
      "metadata": {
        "id": "tmJcD85_2NkW"
      },
      "source": [
        "Le but de cette hypothèse est d'affirmer que le coût moyen est plus petit que un milliard de dollars, donc on parle ici d'un test d’hypothèse multiple unilatérale.\n",
        "\n",
        "\\begin{cases}\n",
        "H_0: g(\\lambda) \\le 1000 \\quad \\Rightarrow \\lambda \\ge 10^{-3} \\\\\n",
        "\\\\\n",
        "H_1: g(\\lambda) \\gt 1000 \\quad \\Rightarrow \\lambda \\lt 10^{-3}\n",
        "\\end{cases}"
      ]
    },
    {
      "cell_type": "markdown",
      "metadata": {
        "id": "QMVUi-3z0fYm"
      },
      "source": [
        "### **2) En utilisant le principe de Neyman-Pearson donner le test le plus puissant pour le niveau α.**\n",
        " \n",
        "\n"
      ]
    },
    {
      "cell_type": "markdown",
      "metadata": {
        "id": "tSzVI6j62QP-"
      },
      "source": [
        "\n",
        "On a la densitée de probabilité est:\n",
        "\\begin{equation}\n",
        "P(x;\\lambda) =   \\lambda e^{-\\lambda x} \\quad ; \\quad \\forall \\quad \\lambda > 0  \n",
        "\\end{equation}\n",
        "On calucle le rapport de vraissemblence:  \n",
        "\\begin{equation}\n",
        "RV =   \\frac{L(\\lambda;x_1,x_2, ... , x_n)}{L(\\lambda';x_1,x_2, ... , x_n)} =\\frac{\\prod_{i=1}^n P(x_i;\\lambda)}{\\prod_{i=1}^n P(x_i;\\lambda')} =\\frac{\\lambda^n exp(-\\lambda \\sum_{i=1}^n x_i)}{\\lambda'^n exp(-\\lambda' \\sum_{i=1}^n x_i)}\n",
        "\\end{equation}\n",
        "\\\n",
        "\\begin{equation}\n",
        "\\boxed{\n",
        "RV =(\\frac{\\lambda}{\\lambda'})^n . exp(n(\\lambda'-\\lambda)T_1(X));\\quad T_1(X) = \\frac{1}{n}\\sum_{i=1}^n x_i}\n",
        "\\end{equation}\n",
        "\\\n",
        "\\begin{cases}\n",
        "\\lambda \\lt \\lambda', \\quad RV \\quad est \\quad croissant.  \\\\\n",
        "\\\\\n",
        "H_0: \\quad \\lambda \\ge 10^{-3}\n",
        "\\end{cases}\n",
        "\\\n",
        "Donc, le test uniformément plus puissant $U.P.P$ est donné par l'inégalité : $\\quad T_1(x_1,x_2, ... ,x_n) \\gt k \\quad \\Rightarrow \\quad \\frac{1}{n}\\sum_{i=1}^n x_i \\gt k$ \n",
        "\n",
        "\\\\\n",
        "Et on peut calculer K par connaissance du risque de première espèce $\\alpha$:\n",
        "\\begin{equation}\n",
        "\\boxed{\n",
        "\\alpha =\\sup\\limits_{\\lambda \\in \\Lambda_0}(\\alpha(\\lambda)) = P(T_1(X) \\gt K \\quad | \\quad \\lambda = 10^{-3})}\n",
        "\\end{equation}\n",
        "\n"
      ]
    },
    {
      "cell_type": "markdown",
      "metadata": {
        "id": "y8QdaZSk-Fvr"
      },
      "source": [
        "### **3-4) Appliquer le test pour l’échantillon considéré au niveau α = 0.05 et donner la p-valeur. Et tracer la densité de probabilité de T1 et indiquer la région du rejet au niveau α = 0.05.**\n"
      ]
    },
    {
      "cell_type": "markdown",
      "metadata": {
        "id": "jvi9Qx2s2IeR"
      },
      "source": [
        "On a les fonction carecteristiques du loi exponentiel et du loi Gamma:\n",
        "Soit:\n",
        "\\begin{cases}\n",
        "X \\sim Exp(\\lambda) \\quad \\Rightarrow  \\Phi_X(t) = \\frac{1}{1-\\frac{it}{\\lambda}}\\\\\n",
        "Z \\sim \\Gamma(\\alpha,\\theta) \\quad \\Rightarrow  \\Phi_Z(t) = \\frac{1}{(1-it\\theta)^k}\\\\\n",
        "\\end{cases}\n",
        "\n",
        "On sait que les v.a du loi Exp sont i.i.d donc:\n",
        "\n",
        "\\begin{equation}\n",
        "\\Phi_{\\sum\\limits_{j=1}^nX_j}(t) = \\prod\\Phi_{X_j}(t) = \\frac{1}{(1-\\frac{it}{\\lambda})^n}\\\\\n",
        "\\end{equation}\n",
        "\n",
        "Cela indique que: $Y = \\sum_{i=1}^n x_i \\sim Gamma(n,\\theta = 1/\\lambda)$ et $\\boxed{T_1(X) = \\frac{1}{n}\\sum_{i=1}^n x_i \\sim Gamma(n,\\theta = 1/n\\lambda)}$\n",
        "\n",
        "Et:\n",
        "\\begin{equation}\n",
        "\\alpha = 0.05 = P(T_1(X) \\gt K \\quad | \\quad (n;\\theta) = (55;10^{3}/55)\\Rightarrow 0.95 = P(T_1(X) \\lt K \\quad | \\quad (n;\\theta) = (55;10^{3}/55))\n",
        "\\end{equation}\n",
        "\n",
        "\n",
        "\n",
        "Alors $\\boxed{K = q_{0.95}}$ avec $q_{\\alpha}$ est le quantile de la loi de distribution de $Y$"
      ]
    },
    {
      "cell_type": "markdown",
      "metadata": {
        "id": "cHQ3kzztqQMm"
      },
      "source": [
        "#### Calcule du K"
      ]
    },
    {
      "cell_type": "code",
      "metadata": {
        "colab": {
          "base_uri": "https://localhost:8080/"
        },
        "id": "OYn-wYMdE4Y8",
        "outputId": "8183bf95-08b2-45f3-a1d2-26c7a669359e"
      },
      "source": [
        "theta = 1000/nb_Obs #parametre de la loi gamma\n",
        "k = gamma.ppf(0.95, a=nb_Obs, scale=theta)\n",
        "print('K=',k)\n",
        "\n",
        "print(\"La valeur du statistique observé T(X) est:\", g1_lambda)\n",
        "\n",
        "if g1_lambda <= k:\n",
        "  print(\"\\non accepte H0 car\",g1_lambda,\"<\",k) \n",
        "else:\n",
        "  print(\"on rejette H0\")"
      ],
      "execution_count": null,
      "outputs": [
        {
          "output_type": "stream",
          "name": "stdout",
          "text": [
            "K= 1231.6379811669049\n",
            "La valeur du statistique observé T(X) est: 726.3363636363636\n",
            "\n",
            "on accepte H0 car 726.3363636363636 < 1231.6379811669049\n"
          ]
        }
      ]
    },
    {
      "cell_type": "markdown",
      "metadata": {
        "id": "oJWEMyLWqq23"
      },
      "source": [
        "On a:\n",
        "\\begin{equation} \n",
        "\\boxed{\n",
        "K = 1231.64\\quad et \\quad T_{obs}(X) = 726.336} \n",
        "\\end{equation} \n",
        "Region Accepté: $A = ]-\\infty;1261.64]$ \n",
        "\n",
        "Et $\\quad T(X) \\in A \\quad;\\quad$ Donc on peut dire que le coût moyen d’accident est inférieur à un milliard de dollars.\n"
      ]
    },
    {
      "cell_type": "markdown",
      "metadata": {
        "id": "kGZ5J0CpqV-k"
      },
      "source": [
        "#### La densité du $T_1(X)$ et l'indication de la region du rejet."
      ]
    },
    {
      "cell_type": "code",
      "metadata": {
        "colab": {
          "base_uri": "https://localhost:8080/",
          "height": 281
        },
        "id": "i5MstPaoqK0w",
        "outputId": "9be1ffd4-c931-40d0-a929-4c3d17306d4c"
      },
      "source": [
        "fig, ax = plt.subplots(1, 1)\n",
        "x = np.linspace(gamma.ppf(0.0001, a=nb_Obs, scale=theta), gamma.ppf(0.9999, a=nb_Obs, scale=theta), 100)\n",
        "ax.plot(x, gamma.pdf(x, a=nb_Obs, scale=theta), 'r-', lw=5, alpha=0.6, label='gamma pdf')\n",
        "shade = np.linspace(gamma.ppf(0.95, a=55, loc=0, scale=theta), gamma.ppf(0.9999, a=55, loc=0, scale=theta), 20)\n",
        "ax.fill_between(shade, gamma.pdf(shade, a=55, loc=0, scale=theta), alpha=0.45, color='green',label='region de rejet')\n",
        "ax.scatter(gamma.ppf(0.95, a=55, loc=0, scale=theta), gamma.pdf(gamma.ppf(0.95, a=55, loc=0, scale=theta), a=55, loc=0, scale=theta) ,color='blue',alpha = 1)\n",
        "p = \"({:.2f} , {:.4f})\".format(gamma.ppf(0.95, a=55, loc=0, scale=theta),gamma.pdf(gamma.ppf(0.95, a=55, loc=0, scale=theta), a=55, loc=0, scale=theta))\n",
        "a=plt.text(gamma.ppf(0.95, a=55, loc=0, scale=theta), gamma.pdf(gamma.ppf(0.95, a=55, loc=0, scale=theta), a=55, loc=0, scale=theta) +0.0002 ,p)\n",
        "ax.legend()"
      ],
      "execution_count": 146,
      "outputs": [
        {
          "output_type": "execute_result",
          "data": {
            "text/plain": [
              "<matplotlib.legend.Legend at 0x7f38f89f57d0>"
            ]
          },
          "metadata": {},
          "execution_count": 146
        },
        {
          "output_type": "display_data",
          "data": {
            "image/png": "[encoded data removed]",
            "text/plain": [
              "<Figure size 432x288 with 1 Axes>"
            ]
          },
          "metadata": {
            "needs_background": "light"
          }
        }
      ]
    },
    {
      "cell_type": "markdown",
      "metadata": {
        "id": "eMr-3f6tqmHs"
      },
      "source": [
        "#### Calcule du p-value:"
      ]
    },
    {
      "cell_type": "markdown",
      "metadata": {
        "id": "Vs1nRxG-RcWJ"
      },
      "source": [
        "\n",
        "\n",
        "\\begin{equation}\n",
        "p_{value} = P(T_1(X) \\gt T_{obs}(x) \\quad | \\quad \\lambda = 10^{-3})\n",
        "\\end{equation} \n",
        "\\begin{equation}\n",
        "p_{value} = P(T_1(X) \\gt 726.336 \\quad | \\quad (n;\\theta) = (55;10^{3}/55))\n",
        "\\end{equation} \n"
      ]
    },
    {
      "cell_type": "code",
      "metadata": {
        "colab": {
          "base_uri": "https://localhost:8080/"
        },
        "id": "7W-NSmNBhzKW",
        "outputId": "08f27444-4776-42c6-e99d-19e92f89d8ad"
      },
      "source": [
        "p_value = 1-gamma.cdf(g1_lambda, a = nb_Obs, scale = theta)\n",
        "p_value"
      ],
      "execution_count": null,
      "outputs": [
        {
          "output_type": "execute_result",
          "data": {
            "text/plain": [
              "0.9862825135767351"
            ]
          },
          "metadata": {},
          "execution_count": 125
        }
      ]
    },
    {
      "cell_type": "markdown",
      "metadata": {
        "id": "eGaCBqkjrsUB"
      },
      "source": [
        "\\begin{equation} \n",
        "\\boxed{\n",
        "p_{value} = 0.986 } \n",
        "\\end{equation}"
      ]
    },
    {
      "cell_type": "markdown",
      "metadata": {
        "id": "ztPnuIXoq5SH"
      },
      "source": [
        "#### Graphe Indiquant la region du p-value"
      ]
    },
    {
      "cell_type": "code",
      "metadata": {
        "colab": {
          "base_uri": "https://localhost:8080/",
          "height": 265
        },
        "id": "Omhftj8bq42c",
        "outputId": "f29c27d7-1688-4e18-ec0b-a4f65fec0458"
      },
      "source": [
        "fig, ax = plt.subplots(1, 1)\n",
        "x = np.linspace(gamma.ppf(0.0001, a=nb_Obs, scale=theta), gamma.ppf(0.9999, a=nb_Obs, scale=theta), 100)\n",
        "ax.plot(x, gamma.pdf(x, a=nb_Obs, scale=theta), 'r-', lw=5, alpha=0.6, label='gamma pdf')\n",
        "\n",
        "shade = np.linspace(gamma.ppf(1-p_value, a=55, loc=0, scale=theta), gamma.ppf(0.9999, a=55, loc=0, scale=theta), 20)\n",
        "ax.fill_between(shade, gamma.pdf(shade, a=55, loc=0, scale=theta), alpha=0.45, color='green')\n",
        "ax.scatter(gamma.ppf(1-p_value, a=55, loc=0, scale=theta), gamma.pdf(gamma.ppf(1-p_value, a=55, loc=0, scale=theta), a=55, loc=0, scale=theta) ,color='blue',alpha = 1)\n",
        "a=plt.text(gamma.ppf(1-p_value, a=55, loc=0, scale=theta) + 20 , gamma.pdf(gamma.ppf(1-p_value, a=55, loc=0, scale=theta), a=55, loc=0, scale=theta) ,'T1 observé')"
      ],
      "execution_count": 195,
      "outputs": [
        {
          "output_type": "display_data",
          "data": {
            "image/png": "[encoded data removed]",
            "text/plain": [
              "<Figure size 432x288 with 1 Axes>"
            ]
          },
          "metadata": {
            "needs_background": "light"
          }
        }
      ]
    },
    {
      "cell_type": "markdown",
      "metadata": {
        "id": "Zu0hWmNet5CE"
      },
      "source": [
        "### **5)La fonction puissance de test pour le niveau α en fonction.**"
      ]
    },
    {
      "cell_type": "markdown",
      "metadata": {
        "id": "v4IQnu2AuH-u"
      },
      "source": [
        "La fonction de puissance est par definition:\n",
        "\n",
        "\\begin{equation}\n",
        "h(\\lambda) = 1 - \\beta(\\lambda) = 1 - P(T \\in A\\quad |\\quad H_1) \n",
        "\\end{equation}\n",
        "\n",
        "Donc:\n",
        "\n",
        "\n",
        "$h(\\lambda) = 1 - P(T_1(x) < K \\quad | \\quad T_1(x) \\sim Gamma(n;\\frac{1}{n\\lambda_1}));\\quad$ avec $\\lambda_1 < 10^{-3} \\Rightarrow \\theta_1 > \\frac{1000}n{}$ \n",
        "\n",
        "\n"
      ]
    },
    {
      "cell_type": "code",
      "metadata": {
        "colab": {
          "base_uri": "https://localhost:8080/",
          "height": 265
        },
        "id": "Fbo3ci17t4lt",
        "outputId": "5e76affc-e443-436d-d780-5b354239d08b"
      },
      "source": [
        "n_vect = [10,50, 100, 500, 100000]\n",
        "scale = np.linspace(0.01,3000, 100)\n",
        "fig, ax = plt.subplots(1, 1)\n",
        "for nb in n_vect:\n",
        " y5 = 1-stats.gamma.cdf(k, a = nb, scale=scale/nb)\n",
        " plt.plot(scale, y5, label=nb)\n",
        "\n",
        "plt.axvspan(1000, 3000, alpha=0.4, color='red',label='H1')\n",
        "plt.axvspan(0, 1000, alpha=0.2, color='green',label='H0')\n",
        "plt.plot(1000*np.ones(100), np.array(range(100))/100,color='black',linewidth=3 )\n",
        "ax.legend()\n",
        "plt.text(200 , 0.4 ,'theta <1000/n')\n",
        "a=plt.text(1400 , 0.4 ,'theta >1000/n')"
      ],
      "execution_count": 194,
      "outputs": [
        {
          "output_type": "display_data",
          "data": {
            "image/png": "[encoded data removed]",
            "text/plain": [
              "<Figure size 432x288 with 1 Axes>"
            ]
          },
          "metadata": {
            "needs_background": "light"
          }
        }
      ]
    },
    {
      "cell_type": "markdown",
      "metadata": {
        "id": "4NN4WCh46Pzy"
      },
      "source": [
        "**Explication**\n",
        "\n",
        "Les courbes illustrant l'effet de la variation du nombre d'observations nous indique clairement que plus n est grand, plus la raideur de la fonction de puissance augment et le passage vers 1 se fait rapidement dans $H_1$.\n",
        "\n",
        "Donc la probibalité que la statistique T soit dans $A$ sachant que $\\theta/n>100$ s'annule rapidement. En plus, la probabilité que $T_1$ ne soit pas dans A sachant qu'on a dans H0 diminue avec l'augmentation de n et s'annule pour $n \\ge$500.\n",
        "Ce qui indique que ce test aura des bonnes resultats pour un grand valeur de n."
      ]
    },
    {
      "cell_type": "markdown",
      "metadata": {
        "id": "kjqRFb7NMJfN"
      },
      "source": [
        "### **6)En utilisant théorème centrale limite, donner une approximation de la loi de T1 et proposer un nouveau test.**"
      ]
    },
    {
      "cell_type": "markdown",
      "metadata": {
        "id": "hr8xVUKglQN9"
      },
      "source": [
        "Les caracteristiques du $T_1(X)$ sont:\n",
        "\\begin{cases}\n",
        "\\mathbb{E}(T_1,\\lambda)=1/\\lambda\\\\\n",
        "\\mathbb{V}ar(T_1,\\lambda)=\\frac{1}{n.\\lambda^2}.\n",
        "\\end{cases}\n",
        "\n",
        "\n",
        "D'aprés le théorème central limite, tout loi d'une somme des v.a ayant un esperance et variance connus converge vers la loi normale.\n",
        "\n",
        "D'où on peut assimiler la variable $T_1$ une loi de distribution Normale tel que: \n",
        "$$ T_1 \\sim N\\ (\\mathbb{E}_{T_1}(\\lambda), \\mathbb{V}ar_{T_1}(\\lambda)\\ )$$\n",
        "\n",
        "Totalement écrite :\n",
        "$$\\boxed{ T_1 \\sim N (\\mu = \\frac{1}{\\lambda}, \\sigma^2 = \\frac{1}{n.\\lambda^2})}$$\n",
        "\n",
        "En utlisant $\\lambda$ de l'hypothese :\n",
        "$\\quad \\boxed{\\lambda = 1/1000 }$"
      ]
    },
    {
      "cell_type": "code",
      "metadata": {
        "colab": {
          "base_uri": "https://localhost:8080/",
          "height": 265
        },
        "id": "erPHU5clH331",
        "outputId": "bbfb52e2-3cc4-49f0-c90b-24ad118dc14f"
      },
      "source": [
        "mu = 1000\n",
        "variance = mu**2/55\n",
        "sigma = np.sqrt(variance)\n",
        "x = np.linspace(mu - 4*sigma, mu + 4*sigma, 100)\n",
        "fig, ax = plt.subplots(1, 1)\n",
        "ax.plot(x, stats.norm.pdf(x, mu, sigma),alpha=1, color='red', label='Normal distribution')\n",
        "a=ax.plot(x, gamma.pdf(x, a=nb_Obs, scale=theta), 'b-', label='Gamma distribution')\n",
        "a=ax.legend()"
      ],
      "execution_count": 191,
      "outputs": [
        {
          "output_type": "display_data",
          "data": {
            "image/png": "[encoded data removed]",
            "text/plain": [
              "<Figure size 432x288 with 1 Axes>"
            ]
          },
          "metadata": {
            "needs_background": "light"
          }
        }
      ]
    },
    {
      "cell_type": "markdown",
      "metadata": {
        "id": "LVVKMd2xlQOD"
      },
      "source": [
        "**On remarque que les formes des 2 lois sont semblable pour la statistique $T_1$**\n",
        "\n",
        "On propose un test sous le memes hyptheses precedentes avec une region rejetter pour $H_0$:\n",
        " $$T_1(X) > K'$$\n",
        " où $k'$ peut être calculer:\n",
        "$$ \\mathbb{P}( T_1(X) > k') = \\alpha\\\\ \\mathbb{P}(N(0,1) > \\frac{k'- \\mu}{\\sigma}) = \\alpha \\Rightarrow \\boxed{\\mathbb{P}( Z \\leq k) = 1 - \\alpha}\n",
        "$$\n",
        "\n",
        "\n",
        "Donc, en posant $q_{1-\\alpha}^N$ le quantile de la loi $N(0,1)$, et pour $\\alpha = 0.05$, on obtient:\n",
        "\n",
        "$$\\boxed{k = q_{0.95}^{N(0,1)}}$$\n"
      ]
    },
    {
      "cell_type": "code",
      "metadata": {
        "id": "zQ3txIwSlQOE",
        "colab": {
          "base_uri": "https://localhost:8080/"
        },
        "outputId": "1955caa7-a081-4eae-e0b6-4acf12a4a83b"
      },
      "source": [
        "kk=stats.norm.ppf(0.95)\n",
        "k_p=kk*sigma + mu\n",
        "if g1_lambda <= k_p:\n",
        "  print(\"on accepte H0 car\",g1_lambda,\"<\",k_p) \n",
        "else:\n",
        "  print(\"on rejette H0\")\n",
        "    \n"
      ],
      "execution_count": 160,
      "outputs": [
        {
          "output_type": "stream",
          "name": "stdout",
          "text": [
            "on accepte H0 car 726.3363636363636 < 1221.7920178125694\n"
          ]
        }
      ]
    },
    {
      "cell_type": "markdown",
      "metadata": {
        "id": "xeBgTZ3_Hkfy"
      },
      "source": [
        "La loi normale pour $\\mu = 10^{-3}$ en illustrant la region du rejet"
      ]
    },
    {
      "cell_type": "code",
      "metadata": {
        "colab": {
          "base_uri": "https://localhost:8080/",
          "height": 265
        },
        "id": "mRSfxXsRHfp8",
        "outputId": "cfc3a6e0-b925-41f1-848f-8342effee3b4"
      },
      "source": [
        "mu = 1000\n",
        "variance = mu**2/55\n",
        "sigma = np.sqrt(variance)\n",
        "x = np.linspace(mu - 4*sigma, mu + 4*sigma, 100)\n",
        "fig, ax = plt.subplots(1, 1)\n",
        "ax.plot(x, stats.norm.pdf(x, mu, sigma))\n",
        "\n",
        "\n",
        "\n",
        "shade = np.linspace(norm.ppf(0.95, mu, sigma), norm.ppf(0.9999,mu, sigma), 20)\n",
        "ax.fill_between(shade, norm.pdf(shade, mu, sigma), alpha=0.45, color='green',label='region de rejet')\n",
        "\n",
        "ax.scatter(norm.ppf(0.95, mu, sigma), norm.pdf(norm.ppf(0.95, mu, sigma), mu, sigma) ,color='blue',alpha = 1)\n",
        "p = \"({:.2f} , {:.4f})\".format(norm.ppf(0.95, mu, sigma),norm.pdf(norm.ppf(0.95, mu, sigma), mu, sigma))\n",
        "a=plt.text(norm.ppf(0.95, mu, sigma), norm.pdf(norm.ppf(0.95, mu, sigma), mu, sigma) +0.0002 ,p)"
      ],
      "execution_count": 161,
      "outputs": [
        {
          "output_type": "display_data",
          "data": {
            "image/png": "[encoded data removed]",
            "text/plain": [
              "<Figure size 432x288 with 1 Axes>"
            ]
          },
          "metadata": {
            "needs_background": "light"
          }
        }
      ]
    }
  ]
}